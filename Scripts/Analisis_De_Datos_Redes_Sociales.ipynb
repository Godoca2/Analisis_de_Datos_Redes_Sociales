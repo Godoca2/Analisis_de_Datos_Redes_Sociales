{
 "cells": [
  {
   "cell_type": "markdown",
   "metadata": {},
   "source": [
    "## Analisis de Datos -  Tarea 1: Limpieza y Estructura de Datos\n",
    "### Integrantes\n",
    "\n",
    "    - César Godoy Delaigue \n",
    "    - Cristhian Alejandro Solís"
   ]
  },
  {
   "cell_type": "markdown",
   "metadata": {},
   "source": [
    "DataSet pérdidas de tiempo en las redes sociales:\n",
    "\n",
    "El conjunto de datos \"Pérdidas de tiempo en las redes sociales\" ofrece una visión detallada del comportamiento y la interacción de los usuarios con las plataformas de redes sociales. Captura varios atributos que pueden ayudar a analizar el impacto de las redes sociales en el tiempo y la productividad de los usuarios. Para este ejercicio valioso para investigar y comprender los matices del consumo de las redes sociales.\n",
    "\n",
    "Este conjunto de datos se generó utilizando técnicas de datos sintéticos con la ayuda de NumPy y pandas. Los datos se crearon artificialmente para simular patrones de uso de redes sociales del mundo real con fines de investigación y análisis."
   ]
  },
  {
   "cell_type": "markdown",
   "metadata": {},
   "source": [
    "## Descripción de Columnas:\n",
    "\n",
    "* UserID: Un identificador único asignado a cada usuario.\n",
    "* Edad: La edad del usuario.\n",
    "* Género: El género del usuario.\n",
    "* Ubicación: La ubicación geográfica del usuario.\n",
    "* Ingresos: Los ingresos anuales del usuario.\n",
    "* Deuda: Indica si el usuario está endeudado o no.\n",
    "* Posee propiedad: Indica si el usuario posee alguna propiedad (Sí/No).\n",
    "* Profesión: La profesión o puesto de trabajo del usuario.\n",
    "* Demografía: Información demográfica adicional sobre el usuario (Vida rural o urbana).\n",
    "* Plataforma: La plataforma de redes sociales utilizada por el usuario (por ejemplo, Facebook, Instagram, TikTok).\n",
    "* Tiempo total dedicado: El tiempo total que el usuario ha pasado en la plataforma.\n",
    "* Número de sesiones: El número de sesiones que el usuario ha tenido en la plataforma.\n",
    "* ID de video: Un identificador único para cada video visto.\n",
    "* Categoría de video: La categoría del video visto (por ejemplo, Entretenimiento, Juegos, Bromas, Vlog).\n",
    "* Duración del video: La duración del video visto.\n",
    "* Participación: El nivel de participación del usuario con el video (por ejemplo, Me gusta, Comentarios).\n",
    "* Puntuación de importancia: una puntuación que representa la importancia percibida del video para el usuario.\n",
    "* Tiempo dedicado al video: la cantidad de tiempo que el usuario pasó viendo el video.\n",
    "* Número de videos vistos: la cantidad total de videos vistos por el usuario.\n",
    "* Velocidad de desplazamiento: la velocidad a la que el usuario se desplaza por el contenido.\n",
    "* Frecuencia: la frecuencia con la que el usuario inicia sesión en la plataforma.\n",
    "* Pérdida de productividad: la cantidad de productividad perdida debido al tiempo dedicado a las redes sociales.\n",
    "* Satisfacción: el nivel de satisfacción del usuario con el contenido consumido.\n",
    "* Motivo de visualización: el motivo por el que el usuario vio el video (por ejemplo, entretenimiento, información).\n",
    "* Tipo de dispositivo: el tipo de dispositivo utilizado para acceder a la plataforma (por ejemplo, móvil, escritorio).\n",
    "* Sistema operativo: el sistema operativo del dispositivo utilizado.\n",
    "* Hora de visualización: la hora específica del día en la que el usuario vio el video.\n",
    "* Autocontrol: el nivel de autocontrol autoevaluado por\n",
    "* el usuario mientras usa la plataforma. Nivel de adicción: el nivel de adicción a las redes sociales autoevaluado por el usuario.\n",
    "* Actividad actual: la actividad en la que participaba el usuario antes de usar la plataforma.\n",
    "* ConnectionType: El tipo de conexión a Internet utilizada por el usuario (por ejemplo, Wi-Fi, datos móviles)."
   ]
  },
  {
   "cell_type": "markdown",
   "metadata": {},
   "source": [
    "Se importan librerias   \n",
    "- Sklearn; donde se extrae el dataset a utilizar, algoritmos de machine learning, métricas y preprocesamiento. \n",
    "- Pandas y numpy para trabajos con DF\n",
    "- Matplotlib para graficar\n",
    "- Seaborn para visualizaciones especificas"
   ]
  },
  {
   "cell_type": "code",
   "execution_count": 4,
   "metadata": {},
   "outputs": [],
   "source": [
    "# Importar librerías necesarias\n",
    "from sklearn.datasets import load_wine\n",
    "from sklearn.decomposition import PCA\n",
    "from sklearn.model_selection import train_test_split\n",
    "from sklearn.naive_bayes import GaussianNB\n",
    "from sklearn.preprocessing import StandardScaler\n",
    "from sklearn.metrics import classification_report, confusion_matrix, accuracy_score, precision_score, recall_score, accuracy_score, f1_score\n",
    "import pandas as pd\n",
    "import numpy as np\n",
    "import matplotlib.pyplot as plt\n",
    "import seaborn as sns"
   ]
  },
  {
   "cell_type": "code",
   "execution_count": 11,
   "metadata": {},
   "outputs": [
    {
     "name": "stdout",
     "output_type": "stream",
     "text": [
      "   UserID  Age  Gender       Location  Income   Debt  Owns Property  \\\n",
      "0       1   56    Male       Pakistan   82812   True           True   \n",
      "1       2   46  Female         Mexico   27999  False           True   \n",
      "2       3   32  Female  United States   42436  False           True   \n",
      "3       4   60    Male         Barzil   62963   True          False   \n",
      "4       5   25    Male       Pakistan   22096  False           True   \n",
      "\n",
      "      Profession Demographics   Platform  ...  ProductivityLoss  Satisfaction  \\\n",
      "0       Engineer        Rural  Instagram  ...                 3             7   \n",
      "1         Artist        Urban  Instagram  ...                 5             5   \n",
      "2       Engineer        Rural   Facebook  ...                 6             4   \n",
      "3  Waiting staff        Rural    YouTube  ...                 3             7   \n",
      "4        Manager        Urban     TikTok  ...                 8             2   \n",
      "\n",
      "      Watch Reason  DeviceType       OS  Watch Time  Self Control  \\\n",
      "0  Procrastination  Smartphone  Android     9:00 PM             5   \n",
      "1            Habit    Computer  Android     5:00 PM             7   \n",
      "2    Entertainment      Tablet  Android     2:00 PM             8   \n",
      "3            Habit  Smartphone  Android     9:00 PM             5   \n",
      "4          Boredom  Smartphone      iOS     8:00 AM            10   \n",
      "\n",
      "   Addiction Level  CurrentActivity  ConnectionType  \n",
      "0                5        Commuting     Mobile Data  \n",
      "1                3        At school           Wi-Fi  \n",
      "2                2          At home     Mobile Data  \n",
      "3                5        Commuting     Mobile Data  \n",
      "4                0          At home     Mobile Data  \n",
      "\n",
      "[5 rows x 31 columns]\n"
     ]
    }
   ],
   "source": [
    "# Load the dataset\n",
    "file_path = (\"..\\Data\\Time-Wasters on Social Media.csv\")\n",
    "df_redes_sociales = pd.read_csv(file_path)\n",
    "\n",
    "print(df_redes_sociales.head())"
   ]
  },
  {
   "cell_type": "markdown",
   "metadata": {},
   "source": [
    "## Exploración Incial de Datos"
   ]
  },
  {
   "cell_type": "code",
   "execution_count": 16,
   "metadata": {},
   "outputs": [
    {
     "data": {
      "text/html": [
       "<div>\n",
       "<style scoped>\n",
       "    .dataframe tbody tr th:only-of-type {\n",
       "        vertical-align: middle;\n",
       "    }\n",
       "\n",
       "    .dataframe tbody tr th {\n",
       "        vertical-align: top;\n",
       "    }\n",
       "\n",
       "    .dataframe thead th {\n",
       "        text-align: right;\n",
       "    }\n",
       "</style>\n",
       "<table border=\"1\" class=\"dataframe\">\n",
       "  <thead>\n",
       "    <tr style=\"text-align: right;\">\n",
       "      <th></th>\n",
       "      <th>UserID</th>\n",
       "      <th>Age</th>\n",
       "      <th>Gender</th>\n",
       "      <th>Location</th>\n",
       "      <th>Income</th>\n",
       "      <th>Debt</th>\n",
       "      <th>Owns Property</th>\n",
       "      <th>Profession</th>\n",
       "      <th>Demographics</th>\n",
       "      <th>Platform</th>\n",
       "      <th>...</th>\n",
       "      <th>ProductivityLoss</th>\n",
       "      <th>Satisfaction</th>\n",
       "      <th>Watch Reason</th>\n",
       "      <th>DeviceType</th>\n",
       "      <th>OS</th>\n",
       "      <th>Watch Time</th>\n",
       "      <th>Self Control</th>\n",
       "      <th>Addiction Level</th>\n",
       "      <th>CurrentActivity</th>\n",
       "      <th>ConnectionType</th>\n",
       "    </tr>\n",
       "  </thead>\n",
       "  <tbody>\n",
       "    <tr>\n",
       "      <th>0</th>\n",
       "      <td>1</td>\n",
       "      <td>56</td>\n",
       "      <td>Male</td>\n",
       "      <td>Pakistan</td>\n",
       "      <td>82812</td>\n",
       "      <td>True</td>\n",
       "      <td>True</td>\n",
       "      <td>Engineer</td>\n",
       "      <td>Rural</td>\n",
       "      <td>Instagram</td>\n",
       "      <td>...</td>\n",
       "      <td>3</td>\n",
       "      <td>7</td>\n",
       "      <td>Procrastination</td>\n",
       "      <td>Smartphone</td>\n",
       "      <td>Android</td>\n",
       "      <td>9:00 PM</td>\n",
       "      <td>5</td>\n",
       "      <td>5</td>\n",
       "      <td>Commuting</td>\n",
       "      <td>Mobile Data</td>\n",
       "    </tr>\n",
       "    <tr>\n",
       "      <th>1</th>\n",
       "      <td>2</td>\n",
       "      <td>46</td>\n",
       "      <td>Female</td>\n",
       "      <td>Mexico</td>\n",
       "      <td>27999</td>\n",
       "      <td>False</td>\n",
       "      <td>True</td>\n",
       "      <td>Artist</td>\n",
       "      <td>Urban</td>\n",
       "      <td>Instagram</td>\n",
       "      <td>...</td>\n",
       "      <td>5</td>\n",
       "      <td>5</td>\n",
       "      <td>Habit</td>\n",
       "      <td>Computer</td>\n",
       "      <td>Android</td>\n",
       "      <td>5:00 PM</td>\n",
       "      <td>7</td>\n",
       "      <td>3</td>\n",
       "      <td>At school</td>\n",
       "      <td>Wi-Fi</td>\n",
       "    </tr>\n",
       "    <tr>\n",
       "      <th>2</th>\n",
       "      <td>3</td>\n",
       "      <td>32</td>\n",
       "      <td>Female</td>\n",
       "      <td>United States</td>\n",
       "      <td>42436</td>\n",
       "      <td>False</td>\n",
       "      <td>True</td>\n",
       "      <td>Engineer</td>\n",
       "      <td>Rural</td>\n",
       "      <td>Facebook</td>\n",
       "      <td>...</td>\n",
       "      <td>6</td>\n",
       "      <td>4</td>\n",
       "      <td>Entertainment</td>\n",
       "      <td>Tablet</td>\n",
       "      <td>Android</td>\n",
       "      <td>2:00 PM</td>\n",
       "      <td>8</td>\n",
       "      <td>2</td>\n",
       "      <td>At home</td>\n",
       "      <td>Mobile Data</td>\n",
       "    </tr>\n",
       "    <tr>\n",
       "      <th>3</th>\n",
       "      <td>4</td>\n",
       "      <td>60</td>\n",
       "      <td>Male</td>\n",
       "      <td>Barzil</td>\n",
       "      <td>62963</td>\n",
       "      <td>True</td>\n",
       "      <td>False</td>\n",
       "      <td>Waiting staff</td>\n",
       "      <td>Rural</td>\n",
       "      <td>YouTube</td>\n",
       "      <td>...</td>\n",
       "      <td>3</td>\n",
       "      <td>7</td>\n",
       "      <td>Habit</td>\n",
       "      <td>Smartphone</td>\n",
       "      <td>Android</td>\n",
       "      <td>9:00 PM</td>\n",
       "      <td>5</td>\n",
       "      <td>5</td>\n",
       "      <td>Commuting</td>\n",
       "      <td>Mobile Data</td>\n",
       "    </tr>\n",
       "    <tr>\n",
       "      <th>4</th>\n",
       "      <td>5</td>\n",
       "      <td>25</td>\n",
       "      <td>Male</td>\n",
       "      <td>Pakistan</td>\n",
       "      <td>22096</td>\n",
       "      <td>False</td>\n",
       "      <td>True</td>\n",
       "      <td>Manager</td>\n",
       "      <td>Urban</td>\n",
       "      <td>TikTok</td>\n",
       "      <td>...</td>\n",
       "      <td>8</td>\n",
       "      <td>2</td>\n",
       "      <td>Boredom</td>\n",
       "      <td>Smartphone</td>\n",
       "      <td>iOS</td>\n",
       "      <td>8:00 AM</td>\n",
       "      <td>10</td>\n",
       "      <td>0</td>\n",
       "      <td>At home</td>\n",
       "      <td>Mobile Data</td>\n",
       "    </tr>\n",
       "  </tbody>\n",
       "</table>\n",
       "<p>5 rows × 31 columns</p>\n",
       "</div>"
      ],
      "text/plain": [
       "   UserID  Age  Gender       Location  Income   Debt  Owns Property  \\\n",
       "0       1   56    Male       Pakistan   82812   True           True   \n",
       "1       2   46  Female         Mexico   27999  False           True   \n",
       "2       3   32  Female  United States   42436  False           True   \n",
       "3       4   60    Male         Barzil   62963   True          False   \n",
       "4       5   25    Male       Pakistan   22096  False           True   \n",
       "\n",
       "      Profession Demographics   Platform  ...  ProductivityLoss  Satisfaction  \\\n",
       "0       Engineer        Rural  Instagram  ...                 3             7   \n",
       "1         Artist        Urban  Instagram  ...                 5             5   \n",
       "2       Engineer        Rural   Facebook  ...                 6             4   \n",
       "3  Waiting staff        Rural    YouTube  ...                 3             7   \n",
       "4        Manager        Urban     TikTok  ...                 8             2   \n",
       "\n",
       "      Watch Reason  DeviceType       OS  Watch Time  Self Control  \\\n",
       "0  Procrastination  Smartphone  Android     9:00 PM             5   \n",
       "1            Habit    Computer  Android     5:00 PM             7   \n",
       "2    Entertainment      Tablet  Android     2:00 PM             8   \n",
       "3            Habit  Smartphone  Android     9:00 PM             5   \n",
       "4          Boredom  Smartphone      iOS     8:00 AM            10   \n",
       "\n",
       "   Addiction Level  CurrentActivity  ConnectionType  \n",
       "0                5        Commuting     Mobile Data  \n",
       "1                3        At school           Wi-Fi  \n",
       "2                2          At home     Mobile Data  \n",
       "3                5        Commuting     Mobile Data  \n",
       "4                0          At home     Mobile Data  \n",
       "\n",
       "[5 rows x 31 columns]"
      ]
     },
     "execution_count": 16,
     "metadata": {},
     "output_type": "execute_result"
    }
   ],
   "source": [
    "# mostrar la información del dataset\n",
    "df_redes_sociales.head()"
   ]
  },
  {
   "cell_type": "code",
   "execution_count": 17,
   "metadata": {},
   "outputs": [
    {
     "name": "stdout",
     "output_type": "stream",
     "text": [
      "<class 'pandas.core.frame.DataFrame'>\n",
      "RangeIndex: 1000 entries, 0 to 999\n",
      "Data columns (total 31 columns):\n",
      " #   Column                    Non-Null Count  Dtype \n",
      "---  ------                    --------------  ----- \n",
      " 0   UserID                    1000 non-null   int64 \n",
      " 1   Age                       1000 non-null   int64 \n",
      " 2   Gender                    1000 non-null   object\n",
      " 3   Location                  1000 non-null   object\n",
      " 4   Income                    1000 non-null   int64 \n",
      " 5   Debt                      1000 non-null   bool  \n",
      " 6   Owns Property             1000 non-null   bool  \n",
      " 7   Profession                1000 non-null   object\n",
      " 8   Demographics              1000 non-null   object\n",
      " 9   Platform                  1000 non-null   object\n",
      " 10  Total Time Spent          1000 non-null   int64 \n",
      " 11  Number of Sessions        1000 non-null   int64 \n",
      " 12  Video ID                  1000 non-null   int64 \n",
      " 13  Video Category            1000 non-null   object\n",
      " 14  Video Length              1000 non-null   int64 \n",
      " 15  Engagement                1000 non-null   int64 \n",
      " 16  Importance Score          1000 non-null   int64 \n",
      " 17  Time Spent On Video       1000 non-null   int64 \n",
      " 18  Number of Videos Watched  1000 non-null   int64 \n",
      " 19  Scroll Rate               1000 non-null   int64 \n",
      " 20  Frequency                 1000 non-null   object\n",
      " 21  ProductivityLoss          1000 non-null   int64 \n",
      " 22  Satisfaction              1000 non-null   int64 \n",
      " 23  Watch Reason              1000 non-null   object\n",
      " 24  DeviceType                1000 non-null   object\n",
      " 25  OS                        1000 non-null   object\n",
      " 26  Watch Time                1000 non-null   object\n",
      " 27  Self Control              1000 non-null   int64 \n",
      " 28  Addiction Level           1000 non-null   int64 \n",
      " 29  CurrentActivity           1000 non-null   object\n",
      " 30  ConnectionType            1000 non-null   object\n",
      "dtypes: bool(2), int64(16), object(13)\n",
      "memory usage: 228.6+ KB\n"
     ]
    }
   ],
   "source": [
    "# mostrar tipo de datos\n",
    "df_redes_sociales.info()"
   ]
  },
  {
   "cell_type": "code",
   "execution_count": 18,
   "metadata": {},
   "outputs": [
    {
     "data": {
      "text/plain": [
       "(1000, 31)"
      ]
     },
     "execution_count": 18,
     "metadata": {},
     "output_type": "execute_result"
    }
   ],
   "source": [
    "# mostrar cantidad de observaciones y variables\n",
    "df_redes_sociales.shape"
   ]
  },
  {
   "cell_type": "code",
   "execution_count": 19,
   "metadata": {},
   "outputs": [
    {
     "name": "stdout",
     "output_type": "stream",
     "text": [
      "Index(['UserID', 'Age', 'Income', 'Total Time Spent', 'Number of Sessions',\n",
      "       'Video ID', 'Video Length', 'Engagement', 'Importance Score',\n",
      "       'Time Spent On Video', 'Number of Videos Watched', 'Scroll Rate',\n",
      "       'ProductivityLoss', 'Satisfaction', 'Self Control', 'Addiction Level'],\n",
      "      dtype='object')\n"
     ]
    }
   ],
   "source": [
    "# Mostrar las columnas de tipo numericas\n",
    "numeric_columns = df_redes_sociales.select_dtypes(include=['int64', 'float64']).columns\n",
    "print(numeric_columns)"
   ]
  },
  {
   "cell_type": "code",
   "execution_count": 21,
   "metadata": {},
   "outputs": [
    {
     "name": "stdout",
     "output_type": "stream",
     "text": [
      "Index(['Gender', 'Location', 'Profession', 'Demographics', 'Platform',\n",
      "       'Video Category', 'Frequency', 'Watch Reason', 'DeviceType', 'OS',\n",
      "       'Watch Time', 'CurrentActivity', 'ConnectionType'],\n",
      "      dtype='object')\n"
     ]
    }
   ],
   "source": [
    "# Mostrar las columnas de tipo categoricas\n",
    "\n",
    "categorical_columns = df_redes_sociales.select_dtypes(include=['object']).columns\n",
    "print(categorical_columns)     "
   ]
  }
 ],
 "metadata": {
  "kernelspec": {
   "display_name": ".venv",
   "language": "python",
   "name": "python3"
  },
  "language_info": {
   "codemirror_mode": {
    "name": "ipython",
    "version": 3
   },
   "file_extension": ".py",
   "mimetype": "text/x-python",
   "name": "python",
   "nbconvert_exporter": "python",
   "pygments_lexer": "ipython3",
   "version": "3.11.4"
  }
 },
 "nbformat": 4,
 "nbformat_minor": 2
}
